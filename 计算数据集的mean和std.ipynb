{
 "cells": [
  {
   "cell_type": "code",
   "execution_count": 4,
   "metadata": {},
   "outputs": [],
   "source": [
    "import os\n",
    "from PIL import Image\n",
    "import numpy as np\n",
    "from glob import glob"
   ]
  },
  {
   "cell_type": "code",
   "execution_count": 5,
   "metadata": {},
   "outputs": [],
   "source": [
    "img_channels = 3\n",
    "img_dir = \"./data/thrombus/img_dir\"\n",
    "assert os.path.exists(img_dir), f\"image dir: '{img_dir}' does not exist.\""
   ]
  },
  {
   "cell_type": "code",
   "execution_count": 6,
   "metadata": {},
   "outputs": [
    {
     "data": {
      "text/plain": [
       "['./data/thrombus/img_dir\\\\1.jpg',\n",
       " './data/thrombus/img_dir\\\\10.jpg',\n",
       " './data/thrombus/img_dir\\\\11.jpg',\n",
       " './data/thrombus/img_dir\\\\12.jpg',\n",
       " './data/thrombus/img_dir\\\\13.jpg',\n",
       " './data/thrombus/img_dir\\\\14.jpg',\n",
       " './data/thrombus/img_dir\\\\15.jpg',\n",
       " './data/thrombus/img_dir\\\\16.jpg',\n",
       " './data/thrombus/img_dir\\\\17.jpg',\n",
       " './data/thrombus/img_dir\\\\18.jpg',\n",
       " './data/thrombus/img_dir\\\\19.jpg',\n",
       " './data/thrombus/img_dir\\\\2.jpg',\n",
       " './data/thrombus/img_dir\\\\20.jpg',\n",
       " './data/thrombus/img_dir\\\\21.jpg',\n",
       " './data/thrombus/img_dir\\\\22.jpg',\n",
       " './data/thrombus/img_dir\\\\23.jpg',\n",
       " './data/thrombus/img_dir\\\\24.jpg',\n",
       " './data/thrombus/img_dir\\\\25.jpg',\n",
       " './data/thrombus/img_dir\\\\26.jpg',\n",
       " './data/thrombus/img_dir\\\\27.jpg',\n",
       " './data/thrombus/img_dir\\\\28.jpg',\n",
       " './data/thrombus/img_dir\\\\29.jpg',\n",
       " './data/thrombus/img_dir\\\\3.jpg',\n",
       " './data/thrombus/img_dir\\\\30.jpg',\n",
       " './data/thrombus/img_dir\\\\31.jpg',\n",
       " './data/thrombus/img_dir\\\\5.jpg',\n",
       " './data/thrombus/img_dir\\\\6.jpg',\n",
       " './data/thrombus/img_dir\\\\9.jpg']"
      ]
     },
     "execution_count": 6,
     "metadata": {},
     "output_type": "execute_result"
    }
   ],
   "source": [
    "img_path_list = glob(img_dir + \"/*.jpg\")\n",
    "img_path_list"
   ]
  },
  {
   "cell_type": "code",
   "execution_count": 7,
   "metadata": {},
   "outputs": [],
   "source": [
    "cumulative_mean = np.zeros(img_channels)\n",
    "cumulative_std = np.zeros(img_channels)\n",
    "for img_path in img_path_list:\n",
    "    img = np.array(Image.open(img_path)) / 255.\n",
    "    img = img.reshape((-1, img_channels))\n",
    "    # print(img.shape)\n",
    "    cumulative_mean += img.mean(axis=0)\n",
    "    cumulative_std += img.std(axis=0)"
   ]
  },
  {
   "cell_type": "code",
   "execution_count": 8,
   "metadata": {},
   "outputs": [
    {
     "name": "stdout",
     "output_type": "stream",
     "text": [
      "mean: [0.54134617 0.60105243 0.6920469 ]\n",
      "std: [0.09599449 0.10797885 0.14183977]\n"
     ]
    }
   ],
   "source": [
    "mean = cumulative_mean / len(img_path_list)\n",
    "std = cumulative_std / len(img_path_list)\n",
    "print(f\"mean: {mean}\")\n",
    "print(f\"std: {std}\")"
   ]
  }
 ],
 "metadata": {
  "kernelspec": {
   "display_name": "py38",
   "language": "python",
   "name": "python3"
  },
  "language_info": {
   "codemirror_mode": {
    "name": "ipython",
    "version": 3
   },
   "file_extension": ".py",
   "mimetype": "text/x-python",
   "name": "python",
   "nbconvert_exporter": "python",
   "pygments_lexer": "ipython3",
   "version": "3.8.18"
  }
 },
 "nbformat": 4,
 "nbformat_minor": 2
}
